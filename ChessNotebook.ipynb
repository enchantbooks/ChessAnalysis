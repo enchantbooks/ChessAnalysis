{
 "cells": [
  {
   "cell_type": "code",
   "execution_count": null,
   "metadata": {},
   "outputs": [],
   "source": [
    "\n",
    "import requests\n",
    "import pandas as pd\n",
    "import re\n",
    "import time\n",
    "\n",
    "# Correctly define the headers dictionary with key-value pairs\n",
    "headers = {\n",
    "    \"User-Agent\": \"My application\",\n",
    "    \"Contact\": \"ericcarlstrom006@gmail.com\"\n",
    "}\n",
    "\n",
    "player_information = []\n",
    "\n",
    "# Make the request to the Chess.com API\n",
    "request = requests.get('https://api.chess.com/pub/player/enchaner/games/archives', headers=headers)\n",
    "\n",
    "# Check if the request was successful\n",
    "if request.status_code != 200:\n",
    "    print(\"Request failed with status code:\", request.status_code)\n",
    "gamesList = []\n",
    "for games in request.json()[\"archives\"]:\n",
    "    time.sleep(0.1)\n",
    "    game = requests.get(games, headers=headers).json()\n",
    "    for s in game[\"games\"]:\n",
    "        gamesList.append(s)"
   ]
  }
 ],
 "metadata": {
  "language_info": {
   "name": "python"
  }
 },
 "nbformat": 4,
 "nbformat_minor": 2
}
